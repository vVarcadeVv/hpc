{
 "cells": [
  {
   "cell_type": "code",
   "execution_count": 7,
   "metadata": {},
   "outputs": [
    {
     "ename": "NameError",
     "evalue": "name 'MPI' is not defined",
     "output_type": "error",
     "traceback": [
      "\u001b[1;31m---------------------------------------------------------------------------\u001b[0m",
      "\u001b[1;31mNameError\u001b[0m                                 Traceback (most recent call last)",
      "\u001b[1;32m<ipython-input-7-fb306dcda83e>\u001b[0m in \u001b[0;36m<module>\u001b[1;34m\u001b[0m\n\u001b[0;32m     42\u001b[0m \u001b[1;33m\u001b[0m\u001b[0m\n\u001b[0;32m     43\u001b[0m \u001b[1;32mif\u001b[0m \u001b[0m__name__\u001b[0m\u001b[1;33m==\u001b[0m\u001b[1;34m'__main__'\u001b[0m\u001b[1;33m:\u001b[0m\u001b[1;33m\u001b[0m\u001b[1;33m\u001b[0m\u001b[0m\n\u001b[1;32m---> 44\u001b[1;33m     \u001b[0mparallel\u001b[0m\u001b[1;33m(\u001b[0m\u001b[1;33m)\u001b[0m\u001b[1;33m\u001b[0m\u001b[1;33m\u001b[0m\u001b[0m\n\u001b[0m",
      "\u001b[1;32m<ipython-input-7-fb306dcda83e>\u001b[0m in \u001b[0;36mparallel\u001b[1;34m()\u001b[0m\n\u001b[0;32m     25\u001b[0m \u001b[1;33m\u001b[0m\u001b[0m\n\u001b[0;32m     26\u001b[0m \u001b[1;32mdef\u001b[0m \u001b[0mparallel\u001b[0m\u001b[1;33m(\u001b[0m\u001b[1;33m)\u001b[0m\u001b[1;33m:\u001b[0m\u001b[1;33m\u001b[0m\u001b[1;33m\u001b[0m\u001b[0m\n\u001b[1;32m---> 27\u001b[1;33m     \u001b[0mcomm\u001b[0m \u001b[1;33m=\u001b[0m \u001b[0mMPI\u001b[0m\u001b[1;33m.\u001b[0m\u001b[0mCOMM_WORLD\u001b[0m\u001b[1;33m\u001b[0m\u001b[1;33m\u001b[0m\u001b[0m\n\u001b[0m\u001b[0;32m     28\u001b[0m     \u001b[0mrank\u001b[0m \u001b[1;33m=\u001b[0m \u001b[0mcomm\u001b[0m\u001b[1;33m.\u001b[0m\u001b[0mGet_rank\u001b[0m\u001b[1;33m(\u001b[0m\u001b[1;33m)\u001b[0m\u001b[1;33m\u001b[0m\u001b[1;33m\u001b[0m\u001b[0m\n\u001b[0;32m     29\u001b[0m     \u001b[0msize\u001b[0m \u001b[1;33m=\u001b[0m \u001b[0mcomm\u001b[0m\u001b[1;33m.\u001b[0m\u001b[0mGet_size\u001b[0m\u001b[1;33m(\u001b[0m\u001b[1;33m)\u001b[0m\u001b[1;33m\u001b[0m\u001b[1;33m\u001b[0m\u001b[0m\n",
      "\u001b[1;31mNameError\u001b[0m: name 'MPI' is not defined"
     ]
    }
   ],
   "source": [
    "import numpy as np\n",
    "from skimage import data, img_as_float\n",
    "import skimage.filters \n",
    "from skimage.filters import (gaussian)\n",
    "from skimage.restoration import (richardson_lucy)\n",
    "from skimage import io\n",
    "import os.path\n",
    "import time\n",
    "from numba import jit\n",
    "\n",
    "curPath = os.path.abspath(os.path.curdir) \n",
    "inputDir = os.path.join(curPath,'input') \n",
    "resultDir = os.path.join(curPath,'output')\n",
    "\n",
    "\n",
    "@jit\n",
    "def loop(imgFiles,rank):\n",
    "    for f in imgFiles:\n",
    "        img = img_as_float(data.load(os.path.join(inputDir,f))) \n",
    "        psf = np.ones((5, 5)) / 25\n",
    "        startTime = time.time()\n",
    "        img = gaussian(img, sigma=1, multichannel=True)\n",
    "        io.imsave(os.path.join(resultDir,f), img)\n",
    "        print (\"Process %d: Took %f seconds for %s\" %(rank, time.time() - startTime, f))\n",
    "\n",
    "def parallel():\n",
    "    comm = MPI.COMM_WORLD\n",
    "    rank = comm.Get_rank()\n",
    "    size = comm.Get_size()\n",
    "    totalStartTime = time.time()\n",
    "    numFiles = int(10/size)\n",
    "    remainder = int(10%size)\n",
    "    if remainder != 0 :\n",
    "        if rank < remainder:\n",
    "            imgFiles = [\"%.4d.jpg\"%x for x in range(rank*numFiles+1, (rank+1)*numFiles+2)]\n",
    "        else:\n",
    "            imgFiles = [\"%.4d.jpg\"%x for x in range(rank*numFiles+2, (rank+1)*numFiles+2)]\n",
    "    else :\n",
    "        imgFiles = [\"%.4d.jpg\"%x for x in range(rank*numFiles+1, (rank+1)*numFiles+1)] \n",
    "    loop(imgFiles,rank)\n",
    "    print(\"Total time %f seconds\" %(time.time() - totalStartTime))\n",
    "\n",
    "if __name__=='__main__': \n",
    "    parallel()"
   ]
  },
  {
   "cell_type": "code",
   "execution_count": null,
   "metadata": {},
   "outputs": [],
   "source": []
  }
 ],
 "metadata": {
  "kernelspec": {
   "display_name": "Python 3",
   "language": "python",
   "name": "python3"
  },
  "language_info": {
   "codemirror_mode": {
    "name": "ipython",
    "version": 3
   },
   "file_extension": ".py",
   "mimetype": "text/x-python",
   "name": "python",
   "nbconvert_exporter": "python",
   "pygments_lexer": "ipython3",
   "version": "3.7.6"
  }
 },
 "nbformat": 4,
 "nbformat_minor": 4
}
