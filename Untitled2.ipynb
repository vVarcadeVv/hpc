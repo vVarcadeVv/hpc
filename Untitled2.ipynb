{
 "cells": [
  {
   "cell_type": "code",
   "execution_count": 5,
   "metadata": {},
   "outputs": [
    {
     "ename": "ImportError",
     "evalue": "DLL load failed: The specified module could not be found.",
     "output_type": "error",
     "traceback": [
      "\u001b[1;31m---------------------------------------------------------------------------\u001b[0m",
      "\u001b[1;31mImportError\u001b[0m                               Traceback (most recent call last)",
      "\u001b[1;32m<ipython-input-5-649fe830f1fa>\u001b[0m in \u001b[0;36m<module>\u001b[1;34m\u001b[0m\n\u001b[0;32m      7\u001b[0m \u001b[1;32mimport\u001b[0m \u001b[0mos\u001b[0m\u001b[1;33m.\u001b[0m\u001b[0mpath\u001b[0m\u001b[1;33m\u001b[0m\u001b[1;33m\u001b[0m\u001b[0m\n\u001b[0;32m      8\u001b[0m \u001b[1;32mimport\u001b[0m \u001b[0mtime\u001b[0m\u001b[1;33m\u001b[0m\u001b[1;33m\u001b[0m\u001b[0m\n\u001b[1;32m----> 9\u001b[1;33m \u001b[1;32mfrom\u001b[0m \u001b[0mmpi4py\u001b[0m \u001b[1;32mimport\u001b[0m \u001b[0mMPI\u001b[0m\u001b[1;33m\u001b[0m\u001b[1;33m\u001b[0m\u001b[0m\n\u001b[0m\u001b[0;32m     10\u001b[0m \u001b[1;33m\u001b[0m\u001b[0m\n\u001b[0;32m     11\u001b[0m \u001b[1;32mfrom\u001b[0m \u001b[0mnumba\u001b[0m \u001b[1;32mimport\u001b[0m \u001b[0mjit\u001b[0m\u001b[1;33m\u001b[0m\u001b[1;33m\u001b[0m\u001b[0m\n",
      "\u001b[1;31mImportError\u001b[0m: DLL load failed: The specified module could not be found."
     ]
    }
   ],
   "source": [
    "import numpy as np\n",
    "from skimage import data, img_as_float\n",
    "import skimage.filters \n",
    "from skimage.filters import (gaussian)\n",
    "from skimage.restoration import (richardson_lucy)\n",
    "from skimage import io\n",
    "import os.path\n",
    "import time\n",
    "from mpi4py import MPI \n",
    "\n",
    "from numba import jit\n",
    "\n",
    "curPath = os.path.abspath(os.path.curdir) \n",
    "inputDir = os.path.join(curPath,'input') \n",
    "resultDir = os.path.join(curPath,'output')\n",
    "\n",
    "\n",
    "@jit\n",
    "def loop(imgFiles,rank):\n",
    "    for f in imgFiles:\n",
    "        img = img_as_float(data.load(os.path.join(inputDir,f))) \n",
    "        psf = np.ones((5, 5)) / 25\n",
    "        startTime = time.time()\n",
    "        img = gaussian(img, sigma=1, multichannel=True)\n",
    "        io.imsave(os.path.join(resultDir,f), img)\n",
    "        print (\"Process %d: Took %f seconds for %s\" %(rank, time.time() - startTime, f))\n",
    "\n",
    "def parallel():\n",
    "    comm = MPI.COMM_WORLD\n",
    "    rank = comm.Get_rank()\n",
    "    size = comm.Get_size()\n",
    "    totalStartTime = time.time()\n",
    "    numFiles = int(10/size)\n",
    "    remainder = int(10%size)\n",
    "    if remainder != 0 :\n",
    "        if rank < remainder:\n",
    "            imgFiles = [\"%.4d.jpg\"%x for x in range(rank*numFiles+1, (rank+1)*numFiles+2)]\n",
    "        else:\n",
    "            imgFiles = [\"%.4d.jpg\"%x for x in range(rank*numFiles+2, (rank+1)*numFiles+2)]\n",
    "    else :\n",
    "        imgFiles = [\"%.4d.jpg\"%x for x in range(rank*numFiles+1, (rank+1)*numFiles+1)] \n",
    "    loop(imgFiles,rank)\n",
    "    print(\"Total time %f seconds\" %(time.time() - totalStartTime))\n",
    "\n",
    "if __name__=='__main__': \n",
    "    parallel()"
   ]
  },
  {
   "cell_type": "code",
   "execution_count": null,
   "metadata": {},
   "outputs": [],
   "source": []
  }
 ],
 "metadata": {
  "kernelspec": {
   "display_name": "Python 3",
   "language": "python",
   "name": "python3"
  },
  "language_info": {
   "codemirror_mode": {
    "name": "ipython",
    "version": 3
   },
   "file_extension": ".py",
   "mimetype": "text/x-python",
   "name": "python",
   "nbconvert_exporter": "python",
   "pygments_lexer": "ipython3",
   "version": "3.7.6"
  }
 },
 "nbformat": 4,
 "nbformat_minor": 4
}
