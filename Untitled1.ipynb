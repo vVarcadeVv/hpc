{
 "cells": [
  {
   "cell_type": "code",
   "execution_count": 1,
   "metadata": {},
   "outputs": [
    {
     "name": "stderr",
     "output_type": "stream",
     "text": [
      "C:\\Users\\DELL\\anaconda3\\lib\\site-packages\\ipykernel_launcher.py:17: UserWarning: This function is deprecated and will be removed in 0.18. Use `skimage.io.load` or `imageio.imread` directly.\n",
      "Lossy conversion from float64 to uint8. Range [0, 1]. Convert image to uint8 prior to saving to suppress this warning.\n",
      "Lossy conversion from float64 to uint8. Range [0, 1]. Convert image to uint8 prior to saving to suppress this warning.\n",
      "Lossy conversion from float64 to uint8. Range [0, 1]. Convert image to uint8 prior to saving to suppress this warning.\n",
      "Lossy conversion from float64 to uint8. Range [0, 1]. Convert image to uint8 prior to saving to suppress this warning.\n",
      "Lossy conversion from float64 to uint8. Range [0, 1]. Convert image to uint8 prior to saving to suppress this warning.\n",
      "Lossy conversion from float64 to uint8. Range [0, 1]. Convert image to uint8 prior to saving to suppress this warning.\n",
      "Lossy conversion from float64 to uint8. Range [0, 1]. Convert image to uint8 prior to saving to suppress this warning.\n"
     ]
    },
    {
     "name": "stdout",
     "output_type": "stream",
     "text": [
      "Took 0.044227 seconds for 0001.jpg\n",
      "Took 0.023967 seconds for 0002.jpg\n",
      "Took 0.034000 seconds for 0003.jpg\n",
      "Took 0.008996 seconds for 0004.jpg\n",
      "Took 0.010001 seconds for 0005.jpg\n",
      "Took 0.009998 seconds for 0006.jpg\n",
      "Took 0.009025 seconds for 0007.jpg\n"
     ]
    },
    {
     "name": "stderr",
     "output_type": "stream",
     "text": [
      "Lossy conversion from float64 to uint8. Range [0, 1]. Convert image to uint8 prior to saving to suppress this warning.\n",
      "Lossy conversion from float64 to uint8. Range [0, 1]. Convert image to uint8 prior to saving to suppress this warning.\n",
      "Lossy conversion from float64 to uint8. Range [0, 1]. Convert image to uint8 prior to saving to suppress this warning.\n"
     ]
    },
    {
     "name": "stdout",
     "output_type": "stream",
     "text": [
      "Took 0.092968 seconds for 0008.jpg\n",
      "Took 0.007999 seconds for 0009.jpg\n",
      "Took 0.008976 seconds for 0010.jpg\n",
      "Total time 0.551352 seconds\n"
     ]
    }
   ],
   "source": [
    "import numpy as np\n",
    "from skimage import data, img_as_float, img_as_uint \n",
    "from scipy.signal import convolve2d as conv2\n",
    "import skimage.filters\n",
    "from skimage import io, color\n",
    "import os.path\n",
    "import time\n",
    "import scipy.misc\n",
    "from skimage.filters import (gaussian)\n",
    "\n",
    "curPath = os.path.abspath(os.path.curdir) \n",
    "inputDir = os.path.join(curPath,'input') \n",
    "resultDir = os.path.join(curPath,'output')\n",
    "\n",
    "def loop(imgFiles):\n",
    "    for f in imgFiles:\n",
    "        img = data.load(os.path.join(inputDir,f))\n",
    "        startTime = time.time()\n",
    "        img = gaussian(img, sigma=1, multichannel=True)\n",
    "        io.imsave(os.path.join(resultDir,f), img)\n",
    "        print(\"Took %f seconds for %s\" %(time.time() - startTime, f))\n",
    "\n",
    "def serial():\n",
    "    total_start_time = time.time()\n",
    "    # imgFiles = [\"%.4d.png\"%x for x in range(1,2)]\n",
    "    imgFiles = [\"%.4d.jpg\"%x for x in range(1,11)]\n",
    "    loop(imgFiles)\n",
    "    print(\"Total time %f seconds\" %(time.time() - total_start_time))\n",
    "\n",
    "if __name__=='__main__': \n",
    "     parallel()\n",
    "\n",
    "\n"
   ]
  },
  {
   "cell_type": "code",
   "execution_count": null,
   "metadata": {},
   "outputs": [],
   "source": []
  }
 ],
 "metadata": {
  "kernelspec": {
   "display_name": "Python 3",
   "language": "python",
   "name": "python3"
  },
  "language_info": {
   "codemirror_mode": {
    "name": "ipython",
    "version": 3
   },
   "file_extension": ".py",
   "mimetype": "text/x-python",
   "name": "python",
   "nbconvert_exporter": "python",
   "pygments_lexer": "ipython3",
   "version": "3.7.6"
  }
 },
 "nbformat": 4,
 "nbformat_minor": 4
}
